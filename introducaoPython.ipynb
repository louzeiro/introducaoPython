{
  "nbformat": 4,
  "nbformat_minor": 0,
  "metadata": {
    "colab": {
      "name": "introducaoPython.ipynb",
      "provenance": [],
      "authorship_tag": "ABX9TyNO3APuxk9f1NzJVT1uScUM",
      "include_colab_link": true
    },
    "kernelspec": {
      "name": "python3",
      "display_name": "Python 3"
    }
  },
  "cells": [
    {
      "cell_type": "markdown",
      "metadata": {
        "id": "view-in-github",
        "colab_type": "text"
      },
      "source": [
        "<a href=\"https://colab.research.google.com/github/louzeiro/introducaoPython/blob/main/introducaoPython.ipynb\" target=\"_parent\"><img src=\"https://colab.research.google.com/assets/colab-badge.svg\" alt=\"Open In Colab\"/></a>"
      ]
    },
    {
      "cell_type": "markdown",
      "metadata": {
        "id": "xQplN37n4WDG"
      },
      "source": [
        "# Introdução ao Python\n",
        "\n",
        "Notebook utilizado durante o curso de *Introdução ao Python* da IAExpert"
      ]
    },
    {
      "cell_type": "code",
      "metadata": {
        "id": "CzKtuicn4St1"
      },
      "source": [
        ""
      ],
      "execution_count": null,
      "outputs": []
    }
  ]
}